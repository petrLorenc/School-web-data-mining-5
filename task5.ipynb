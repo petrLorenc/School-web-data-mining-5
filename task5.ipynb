{
 "cells": [
  {
   "cell_type": "raw",
   "metadata": {},
   "source": [
    "In preprocessing part I deleted all rows in table clicks which was not long enough (as a treshold was chosen less than 10 seconds). After that I filtered out 11410 rows and have 27041 valid rows. Then I make analysis of conversion - there is 497 main conversion and 442 micro conversion. After that I aim to extract some association rule and frequent item set mining.\n",
    "\n",
    "I group every visit of user by its ID and make a list of pages which was visited by him (something like shopping list in the market). Result are ...  from then we can see that if somebody go to page \"Info\" then for almost sure go to page \"Search\"."
   ]
  },
  {
   "cell_type": "code",
   "execution_count": 84,
   "metadata": {
    "collapsed": true,
    "deletable": true,
    "editable": true
   },
   "outputs": [],
   "source": [
    "import pandas as pd\n",
    "search_engine_map = pd.read_csv(\"./wum_dataset_hw/search_engine_map.csv\")\n",
    "clicks = pd.read_csv(\"./wum_dataset_hw/clicks.csv\")\n",
    "visitors = pd.read_csv(\"./wum_dataset_hw/visitors.csv\")"
   ]
  },
  {
   "cell_type": "code",
   "execution_count": 39,
   "metadata": {
    "collapsed": false
   },
   "outputs": [
    {
     "data": {
      "text/html": [
       "<div>\n",
       "<table border=\"1\" class=\"dataframe\">\n",
       "  <thead>\n",
       "    <tr style=\"text-align: right;\">\n",
       "      <th></th>\n",
       "      <th>Referrer</th>\n",
       "      <th>Type</th>\n",
       "    </tr>\n",
       "  </thead>\n",
       "  <tbody>\n",
       "    <tr>\n",
       "      <th>0</th>\n",
       "      <td>URI_0</td>\n",
       "      <td>NaN</td>\n",
       "    </tr>\n",
       "    <tr>\n",
       "      <th>1</th>\n",
       "      <td>URI_1</td>\n",
       "      <td>Other</td>\n",
       "    </tr>\n",
       "    <tr>\n",
       "      <th>2</th>\n",
       "      <td>URI_2</td>\n",
       "      <td>Other</td>\n",
       "    </tr>\n",
       "  </tbody>\n",
       "</table>\n",
       "</div>"
      ],
      "text/plain": [
       "  Referrer   Type\n",
       "0    URI_0    NaN\n",
       "1    URI_1  Other\n",
       "2    URI_2  Other"
      ]
     },
     "execution_count": 39,
     "metadata": {},
     "output_type": "execute_result"
    }
   ],
   "source": [
    "'''\n",
    "Referrer - anonymized referrer\n",
    "Type - type of the referrer domain\n",
    "'''\n",
    "search_engine_map.head(3)"
   ]
  },
  {
   "cell_type": "code",
   "execution_count": 83,
   "metadata": {
    "collapsed": false,
    "scrolled": true
   },
   "outputs": [
    {
     "data": {
      "text/html": [
       "<div>\n",
       "<table border=\"1\" class=\"dataframe\">\n",
       "  <thead>\n",
       "    <tr style=\"text-align: right;\">\n",
       "      <th></th>\n",
       "      <th>LocalID</th>\n",
       "      <th>PageID</th>\n",
       "      <th>VisitID</th>\n",
       "      <th>PageName</th>\n",
       "      <th>CatName</th>\n",
       "      <th>CatID</th>\n",
       "      <th>ExtCatName</th>\n",
       "      <th>ExtCatID</th>\n",
       "      <th>TopicName</th>\n",
       "      <th>TopicID</th>\n",
       "      <th>TimeOnPage</th>\n",
       "      <th>PageScore</th>\n",
       "      <th>SequenceNumber</th>\n",
       "    </tr>\n",
       "  </thead>\n",
       "  <tbody>\n",
       "    <tr>\n",
       "      <th>0</th>\n",
       "      <td>648460</td>\n",
       "      <td>3044</td>\n",
       "      <td>1185</td>\n",
       "      <td>TravelAgency</td>\n",
       "      <td>Info</td>\n",
       "      <td>1</td>\n",
       "      <td>homepage</td>\n",
       "      <td>1</td>\n",
       "      <td>In general</td>\n",
       "      <td>1000</td>\n",
       "      <td>30</td>\n",
       "      <td>30</td>\n",
       "      <td>1</td>\n",
       "    </tr>\n",
       "    <tr>\n",
       "      <th>1</th>\n",
       "      <td>648461</td>\n",
       "      <td>3045</td>\n",
       "      <td>1185</td>\n",
       "      <td>tours with tents</td>\n",
       "      <td>Search</td>\n",
       "      <td>2</td>\n",
       "      <td>Catalog</td>\n",
       "      <td>5</td>\n",
       "      <td>Tourism</td>\n",
       "      <td>1</td>\n",
       "      <td>30</td>\n",
       "      <td>50</td>\n",
       "      <td>2</td>\n",
       "    </tr>\n",
       "    <tr>\n",
       "      <th>2</th>\n",
       "      <td>648462</td>\n",
       "      <td>3046</td>\n",
       "      <td>1185</td>\n",
       "      <td>hiking</td>\n",
       "      <td>Search</td>\n",
       "      <td>2</td>\n",
       "      <td>Catalog</td>\n",
       "      <td>5</td>\n",
       "      <td>Hiking</td>\n",
       "      <td>3</td>\n",
       "      <td>30</td>\n",
       "      <td>62</td>\n",
       "      <td>3</td>\n",
       "    </tr>\n",
       "  </tbody>\n",
       "</table>\n",
       "</div>"
      ],
      "text/plain": [
       "   LocalID  PageID  VisitID          PageName CatName  CatID ExtCatName  \\\n",
       "0   648460    3044     1185      TravelAgency    Info      1   homepage   \n",
       "1   648461    3045     1185  tours with tents  Search      2    Catalog   \n",
       "2   648462    3046     1185            hiking  Search      2    Catalog   \n",
       "\n",
       "   ExtCatID   TopicName  TopicID  TimeOnPage  PageScore  SequenceNumber  \n",
       "0         1  In general     1000          30         30               1  \n",
       "1         5     Tourism        1          30         50               2  \n",
       "2         5      Hiking        3          30         62               3  "
      ]
     },
     "execution_count": 83,
     "metadata": {},
     "output_type": "execute_result"
    }
   ],
   "source": [
    "'''\n",
    "LocalID - local identifier of an event\n",
    "PageID - identifier of a visited page\n",
    "VisitID - session identifier\n",
    "PageName - page label\n",
    "CatName, CatID - page type (Navigation), general information\n",
    "ExtCat,ExtCatID - page type (Content), more specific information\n",
    "TopicName, TopicID - topic\n",
    "TimeOnPage - time spent on the page. Last page of the session = 30s.\n",
    "PageScore - weight of the page using the following heuristic: (ln(o)+1)*t\n",
    "SequenceNumber - page order within a session\n",
    "'''\n",
    "clicks.head(3)"
   ]
  },
  {
   "cell_type": "code",
   "execution_count": 9,
   "metadata": {
    "collapsed": false
   },
   "outputs": [
    {
     "data": {
      "text/html": [
       "<div>\n",
       "<table border=\"1\" class=\"dataframe\">\n",
       "  <thead>\n",
       "    <tr style=\"text-align: right;\">\n",
       "      <th></th>\n",
       "      <th>VisitID</th>\n",
       "      <th>Referrer</th>\n",
       "      <th>Day</th>\n",
       "      <th>Hour</th>\n",
       "      <th>Length_seconds</th>\n",
       "      <th>Length_pagecount</th>\n",
       "    </tr>\n",
       "  </thead>\n",
       "  <tbody>\n",
       "    <tr>\n",
       "      <th>0</th>\n",
       "      <td>1185</td>\n",
       "      <td>URI_9</td>\n",
       "      <td>Sunday</td>\n",
       "      <td>23</td>\n",
       "      <td>0</td>\n",
       "      <td>6</td>\n",
       "    </tr>\n",
       "    <tr>\n",
       "      <th>1</th>\n",
       "      <td>1186</td>\n",
       "      <td>URI_38</td>\n",
       "      <td>Sunday</td>\n",
       "      <td>23</td>\n",
       "      <td>300</td>\n",
       "      <td>2</td>\n",
       "    </tr>\n",
       "  </tbody>\n",
       "</table>\n",
       "</div>"
      ],
      "text/plain": [
       "   VisitID Referrer     Day  Hour  Length_seconds  Length_pagecount\n",
       "0     1185    URI_9  Sunday    23               0                 6\n",
       "1     1186   URI_38  Sunday    23             300                 2"
      ]
     },
     "execution_count": 9,
     "metadata": {},
     "output_type": "execute_result"
    }
   ],
   "source": [
    "'''\n",
    "VisitID - session identifier\n",
    "Referrer - anonymized referrer\n",
    "Day - day of the visit\n",
    "Hour - hour of the visit\n",
    "Length_seconds - visit length in seconds\n",
    "Length_pagecount - visit length as number of visited pages\n",
    "'''\n",
    "visitors.head(1)"
   ]
  },
  {
   "cell_type": "code",
   "execution_count": 85,
   "metadata": {
    "collapsed": false
   },
   "outputs": [],
   "source": [
    "# filtering\n",
    "mean_lenght_visit = visitors[\"Length_seconds\"].mean()\n",
    "mean_lenght_visit = mean_lenght_visit / 2 # to have more data\n",
    "\n",
    "filtered_out = 0\n",
    "\n",
    "for i in range(0, clicks.__len__()):\n",
    "    row_visitors = visitors.loc[visitors[\"VisitID\"] == clicks.get_value(i,\"VisitID\")]\n",
    "    if len(row_visitors) >= 1:\n",
    "        if visitors.loc[visitors[\"VisitID\"] == clicks.get_value(i,\"VisitID\")][\"Length_seconds\"].mean() < 10:\n",
    "            clicks.drop(i, inplace=True)\n",
    "            filtered_out = filtered_out + 1\n",
    "    else:\n",
    "        clicks.drop(i, inplace=True)\n",
    "        filtered_out = filtered_out + 1"
   ]
  },
  {
   "cell_type": "code",
   "execution_count": 86,
   "metadata": {
    "collapsed": false,
    "scrolled": true
   },
   "outputs": [
    {
     "data": {
      "text/plain": [
       "11410"
      ]
     },
     "execution_count": 86,
     "metadata": {},
     "output_type": "execute_result"
    }
   ],
   "source": [
    "filtered_out"
   ]
  },
  {
   "cell_type": "code",
   "execution_count": 147,
   "metadata": {
    "collapsed": false
   },
   "outputs": [
    {
     "data": {
      "text/plain": [
       "27041"
      ]
     },
     "execution_count": 147,
     "metadata": {},
     "output_type": "execute_result"
    }
   ],
   "source": [
    "len(clicks)"
   ]
  },
  {
   "cell_type": "code",
   "execution_count": 100,
   "metadata": {
    "collapsed": false
   },
   "outputs": [],
   "source": [
    "main_corversion = clicks.loc[(clicks[\"PageName\"] == \"APPLICATION\") \n",
    "                            | (clicks[\"PageName\"] == \"CATALOG\")\n",
    "                            | (clicks[\"CatName\"] == \"APPLICATION\")\n",
    "                            | (clicks[\"CatName\"] == \"CATALOG\")]"
   ]
  },
  {
   "cell_type": "code",
   "execution_count": 101,
   "metadata": {
    "collapsed": true
   },
   "outputs": [],
   "source": [
    "micro_corversion = clicks.loc[(clicks[\"PageName\"] == \"DISCOUNT\") \n",
    "                            | (clicks[\"PageName\"] == \"HOWTOJOIN\")\n",
    "                            | (clicks[\"PageName\"] == \"INSURANCE\")\n",
    "                            | (clicks[\"PageName\"] == \"WHOWEARE\")]"
   ]
  },
  {
   "cell_type": "code",
   "execution_count": 102,
   "metadata": {
    "collapsed": false
   },
   "outputs": [
    {
     "data": {
      "text/plain": [
       "442"
      ]
     },
     "execution_count": 102,
     "metadata": {},
     "output_type": "execute_result"
    }
   ],
   "source": [
    "len(micro_corversion)"
   ]
  },
  {
   "cell_type": "code",
   "execution_count": 103,
   "metadata": {
    "collapsed": false
   },
   "outputs": [
    {
     "data": {
      "text/plain": [
       "497"
      ]
     },
     "execution_count": 103,
     "metadata": {},
     "output_type": "execute_result"
    }
   ],
   "source": [
    "len(main_corversion)"
   ]
  },
  {
   "cell_type": "code",
   "execution_count": 10,
   "metadata": {
    "collapsed": true
   },
   "outputs": [],
   "source": [
    "from collections import Counter\n",
    " \n",
    "def frequentItems(transactions, support):\n",
    "    counter = Counter()\n",
    "    for trans in transactions:\n",
    "        counter.update(frozenset([t]) for t in trans)\n",
    "    return set(item for item in counter if counter[item]/len(transactions) >= support), counter\n",
    " \n",
    "def generateCandidates(L, k):\n",
    "    candidates = set()\n",
    "    for a in L:\n",
    "        for b in L:\n",
    "            union = a | b\n",
    "            if len(union) == k and a != b:\n",
    "                candidates.add(union)\n",
    "    return candidates\n",
    " \n",
    "def filterCandidates(transactions, itemsets, support):\n",
    "    counter = Counter()\n",
    "    for trans in transactions:\n",
    "        subsets = [itemset for itemset in itemsets if itemset.issubset(trans)]\n",
    "        counter.update(subsets)\n",
    "    return set(item for item in counter if counter[item]/len(transactions) >= support), counter\n",
    " \n",
    "def apriori(transactions, support):\n",
    "    result = list()\n",
    "    resultc = Counter()\n",
    "    candidates, counter = frequentItems(transactions, support)\n",
    "    result += candidates\n",
    "    resultc += counter\n",
    "    k = 2\n",
    "    while candidates:\n",
    "        candidates = generateCandidates(candidates, k)\n",
    "        candidates,counter = filterCandidates(transactions, candidates, support)\n",
    "        result += candidates\n",
    "        resultc += counter\n",
    "        k += 1\n",
    "    resultc = {item:(resultc[item]/len(transactions)) for item in resultc}\n",
    "    return result, resultc\n"
   ]
  },
  {
   "cell_type": "code",
   "execution_count": 148,
   "metadata": {
    "collapsed": true
   },
   "outputs": [],
   "source": [
    "class Rule():\n",
    "    def __init__(self, left, right, conf, conv, supp):\n",
    "        self.left = left\n",
    "        self.right = right\n",
    "        self.confidence = round(conf, 3)\n",
    "        self.conviction = round(conv, 3)\n",
    "        self.support = round(supp, 3)\n",
    "        \n",
    "    def __str__(self):\n",
    "        res = \"Rule: (\"\n",
    "        res = \"(\" + \",\".join(self.left) + \") ---> (\" + \",\".join(self.right) + \")\"\n",
    "        res = res + \"), confidence: \" + str(self.confidence) + \", conviction: \"\n",
    "        res = res + str(self.conviction) + \", support: \" + str(self.support)\n",
    "        return res"
   ]
  },
  {
   "cell_type": "code",
   "execution_count": 133,
   "metadata": {
    "collapsed": true
   },
   "outputs": [],
   "source": [
    "def generateRules(frequentItemsets, supports, minConfidence):\n",
    "    rules = []\n",
    "    for s in frequentItemsets:\n",
    "        for subset in frozenset(map(frozenset,list_powerset(list(s)))):\n",
    "            if not subset:\n",
    "                continue\n",
    "            tmpSet = set(s)\n",
    "            tmpSub = set(subset)\n",
    "            for it in tmpSub:\n",
    "                tmpSet.remove(it)\n",
    "            if not tmpSet:\n",
    "                continue\n",
    "            tmpSetF = frozenset(tmpSet)\n",
    "            confidence = supports[s]/supports[tmpSetF]\n",
    "            if confidence == 1:\n",
    "                conviction = INF\n",
    "            else:\n",
    "                conviction = (1-supports[subset])/(1-confidence)\n",
    "            if confidence >= minConfidence:\n",
    "                rule = Rule(tmpSet, tmpSub, confidence, conviction, supports[s])\n",
    "                rules.append(rule)\n",
    "    return rules"
   ]
  },
  {
   "cell_type": "code",
   "execution_count": 12,
   "metadata": {
    "collapsed": true
   },
   "outputs": [],
   "source": [
    "def list_powerset(lst):\n",
    "    result = [[]]\n",
    "    for x in lst:\n",
    "        result.extend([subset + [x] for subset in result])\n",
    "    return result"
   ]
  },
  {
   "cell_type": "code",
   "execution_count": 115,
   "metadata": {
    "collapsed": false
   },
   "outputs": [],
   "source": [
    "def getDatasetByVisitId(rowName):\n",
    "    old_visit_id = int(clicks.head(1)[\"VisitID\"])\n",
    "    dataset = []\n",
    "    itemset = []\n",
    "    for index, row in clicks.iterrows():\n",
    "        new_visit_id = int(row[\"VisitID\"])\n",
    "        if new_visit_id == old_visit_id:\n",
    "            itemset.append(str(row[str(rowName)]))\n",
    "        else:\n",
    "            dataset.append(list(set(itemset)))\n",
    "            itemset = []\n",
    "            itemset.append(str(row[str(rowName)]))\n",
    "            old_visit_id = new_visit_id\n",
    "\n",
    "    return dataset"
   ]
  },
  {
   "cell_type": "code",
   "execution_count": 116,
   "metadata": {
    "collapsed": false
   },
   "outputs": [],
   "source": [
    "dataset_category_name = getDatasetByVisitId(\"CatName\")\n",
    "dataset_page_name = getDatasetByVisitId(\"PageName\")\n",
    "dataset_ext_category_name = getDatasetByVisitId(\"ExtCatName\")\n",
    "dataset_topic = getDatasetByVisitId(\"TopicName\")"
   ]
  },
  {
   "cell_type": "code",
   "execution_count": 153,
   "metadata": {
    "collapsed": false
   },
   "outputs": [
    {
     "name": "stdout",
     "output_type": "stream",
     "text": [
      "frozenset({'Search'}) - 0.8984908372260151\n",
      "frozenset({'Trip'}) - 0.7024793388429752\n",
      "frozenset({'Info'}) - 0.6582824290334172\n",
      "frozenset({'Info', 'Search'}) - 0.5955803090190442\n",
      "frozenset({'Trip', 'Search'}) - 0.6446280991735537\n",
      "frozenset({'Trip', 'Info'}) - 0.43226733740567735\n",
      "frozenset({'Trip', 'Info', 'Search'}) - 0.41268415379087314\n",
      "---------------\n",
      "(Info) ---> (Search)), confidence: 0.905, conviction: 1.066, support: 0.596\n",
      "(Search) ---> (Info)), confidence: 0.663, conviction: 1.014, support: 0.596\n",
      "(Trip) ---> (Search)), confidence: 0.918, conviction: 1.233, support: 0.645\n",
      "(Search) ---> (Trip)), confidence: 0.717, conviction: 1.053, support: 0.645\n",
      "(Info) ---> (Trip)), confidence: 0.657, conviction: 0.867, support: 0.432\n",
      "(Trip) ---> (Info)), confidence: 0.615, conviction: 0.888, support: 0.432\n",
      "(Trip,Search) ---> (Info)), confidence: 0.64, conviction: 0.95, support: 0.413\n",
      "(Trip) ---> (Info,Search)), confidence: 0.587, conviction: 0.98, support: 0.413\n",
      "(Trip,Info) ---> (Search)), confidence: 0.955, conviction: 2.241, support: 0.413\n",
      "(Info,Search) ---> (Trip)), confidence: 0.693, conviction: 0.969, support: 0.413\n",
      "(Info) ---> (Trip,Search)), confidence: 0.627, conviction: 0.953, support: 0.413\n",
      "(Search) ---> (Trip,Info)), confidence: 0.459, conviction: 1.05, support: 0.413\n"
     ]
    }
   ],
   "source": [
    "frequentItemsets, supports = apriori(dataset_category_name, 0.2)\n",
    "for f in frequentItemsets:\n",
    "    print(\"{} - {}\".format(f,supports[f]))\n",
    "print(\"---------------\")\n",
    "    \n",
    "for rule in generateRules(frequentItemsets, supports, 0.2):\n",
    "    print (rule.__str__())"
   ]
  },
  {
   "cell_type": "code",
   "execution_count": 154,
   "metadata": {
    "collapsed": false
   },
   "outputs": [
    {
     "name": "stdout",
     "output_type": "stream",
     "text": [
      "frozenset({'TravelAgency'}) - 0.6196550485088035\n",
      "frozenset({'sightseeing tours'}) - 0.10168882500898312\n",
      "frozenset({'lastminute'}) - 0.19331656485806684\n",
      "frozenset({'hiking'}) - 0.14678404599353215\n",
      "frozenset({'tours and holiday comes into hotel'}) - 0.12378727991376212\n",
      "frozenset({'tours with tents'}) - 0.15001796622349983\n",
      "frozenset({'Far tours'}) - 0.11013295005389867\n",
      "frozenset({'tours with tents', 'TravelAgency'}) - 0.1063600431189364\n",
      "frozenset({'hiking', 'TravelAgency'}) - 0.10366510959396334\n",
      "frozenset({'lastminute', 'TravelAgency'}) - 0.12881782249371182\n",
      "---------------\n",
      "(tours with tents) ---> (TravelAgency)), confidence: 0.709, conviction: 1.307, support: 0.106\n",
      "(hiking) ---> (TravelAgency)), confidence: 0.706, conviction: 1.295, support: 0.104\n",
      "(lastminute) ---> (TravelAgency)), confidence: 0.666, conviction: 1.14, support: 0.129\n",
      "(TravelAgency) ---> (lastminute)), confidence: 0.208, conviction: 1.018, support: 0.129\n"
     ]
    }
   ],
   "source": [
    "frequentItemsets, supports = apriori(dataset_page_name, 0.1)\n",
    "for f in frequentItemsets:\n",
    "    print(\"{} - {}\".format(f,supports[f]))\n",
    "print(\"---------------\")\n",
    "    \n",
    "for rule in generateRules(frequentItemsets, supports, 0.2):\n",
    "    print (rule.__str__())"
   ]
  },
  {
   "cell_type": "code",
   "execution_count": 155,
   "metadata": {
    "collapsed": false
   },
   "outputs": [
    {
     "name": "stdout",
     "output_type": "stream",
     "text": [
      "frozenset({'undetected'}) - 0.7024793388429752\n",
      "frozenset({'Catalog'}) - 0.826805605461732\n",
      "frozenset({'homepage'}) - 0.6196550485088035\n",
      "frozenset({'extension'}) - 0.12414660438375853\n",
      "frozenset({'Catalog', 'undetected'}) - 0.5896514552641035\n",
      "frozenset({'homepage', 'undetected'}) - 0.40567732662594325\n",
      "frozenset({'Catalog', 'homepage'}) - 0.5228171038447719\n",
      "frozenset({'Catalog', 'homepage', 'undetected'}) - 0.3659719726913403\n",
      "---------------\n",
      "(Catalog) ---> (undetected)), confidence: 0.713, conviction: 1.037, support: 0.59\n",
      "(undetected) ---> (Catalog)), confidence: 0.839, conviction: 1.078, support: 0.59\n",
      "(homepage) ---> (undetected)), confidence: 0.655, conviction: 0.862, support: 0.406\n",
      "(undetected) ---> (homepage)), confidence: 0.577, conviction: 0.9, support: 0.406\n",
      "(homepage) ---> (Catalog)), confidence: 0.844, conviction: 1.108, support: 0.523\n",
      "(Catalog) ---> (homepage)), confidence: 0.632, conviction: 1.034, support: 0.523\n",
      "(homepage,undetected) ---> (Catalog)), confidence: 0.902, conviction: 1.77, support: 0.366\n",
      "(Catalog,undetected) ---> (homepage)), confidence: 0.621, conviction: 1.003, support: 0.366\n",
      "(Catalog,homepage) ---> (undetected)), confidence: 0.7, conviction: 0.992, support: 0.366\n",
      "(homepage) ---> (Catalog,undetected)), confidence: 0.591, conviction: 1.002, support: 0.366\n",
      "(Catalog) ---> (homepage,undetected)), confidence: 0.443, conviction: 1.066, support: 0.366\n",
      "(undetected) ---> (Catalog,homepage)), confidence: 0.521, conviction: 0.996, support: 0.366\n"
     ]
    }
   ],
   "source": [
    "frequentItemsets, supports = apriori(dataset_ext_category_name, 0.1)\n",
    "for f in frequentItemsets:\n",
    "    print(\"{} - {}\".format(f,supports[f]))\n",
    "print(\"---------------\")\n",
    "\n",
    "for rule in generateRules(frequentItemsets, supports, 0.2):\n",
    "    print (rule.__str__())"
   ]
  },
  {
   "cell_type": "code",
   "execution_count": 156,
   "metadata": {
    "collapsed": false
   },
   "outputs": [
    {
     "name": "stdout",
     "output_type": "stream",
     "text": [
      "frozenset({'Tourism'}) - 0.23014732303269853\n",
      "frozenset({'Tours with accommodation'}) - 0.17750628817822495\n",
      "frozenset({'Neni'}) - 0.1223499820337765\n",
      "frozenset({'Hiking'}) - 0.1697808120733022\n",
      "frozenset({'Lastminute'}) - 0.19331656485806684\n",
      "frozenset({'exotica'}) - 0.1428314768235717\n",
      "frozenset({'In general'}) - 0.7326625943226733\n",
      "frozenset({'In general', 'Tours with accommodation'}) - 0.12576356449874238\n",
      "frozenset({'exotica', 'In general'}) - 0.10564139417894358\n",
      "frozenset({'Lastminute', 'In general'}) - 0.14732303269852676\n",
      "frozenset({'In general', 'Hiking'}) - 0.12558390226374416\n",
      "frozenset({'In general', 'Tourism'}) - 0.1703197987782968\n",
      "---------------\n",
      "(Tours with accommodation) ---> (In general)), confidence: 0.709, conviction: 0.917, support: 0.126\n",
      "(exotica) ---> (In general)), confidence: 0.74, conviction: 1.027, support: 0.106\n",
      "(In general) ---> (Lastminute)), confidence: 0.201, conviction: 1.01, support: 0.147\n",
      "(Lastminute) ---> (In general)), confidence: 0.762, conviction: 1.124, support: 0.147\n",
      "(Hiking) ---> (In general)), confidence: 0.74, conviction: 1.027, support: 0.126\n",
      "(In general) ---> (Tourism)), confidence: 0.232, conviction: 1.003, support: 0.17\n",
      "(Tourism) ---> (In general)), confidence: 0.74, conviction: 1.028, support: 0.17\n"
     ]
    }
   ],
   "source": [
    "frequentItemsets, supports = apriori(dataset_topic, 0.1)\n",
    "for f in frequentItemsets:\n",
    "    print(\"{} - {}\".format(f,supports[f]))\n",
    "print(\"---------------\")\n",
    "for rule in generateRules(frequentItemsets, supports, 0.2):\n",
    "    print (rule.__str__())"
   ]
  },
  {
   "cell_type": "code",
   "execution_count": null,
   "metadata": {
    "collapsed": true
   },
   "outputs": [],
   "source": []
  }
 ],
 "metadata": {
  "kernelspec": {
   "display_name": "Python 3",
   "language": "python",
   "name": "python3"
  },
  "language_info": {
   "codemirror_mode": {
    "name": "ipython",
    "version": 3
   },
   "file_extension": ".py",
   "mimetype": "text/x-python",
   "name": "python",
   "nbconvert_exporter": "python",
   "pygments_lexer": "ipython3",
   "version": "3.5.2"
  }
 },
 "nbformat": 4,
 "nbformat_minor": 2
}
